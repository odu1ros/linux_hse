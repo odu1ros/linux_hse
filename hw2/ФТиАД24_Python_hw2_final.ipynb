{
 "cells": [
  {
   "cell_type": "markdown",
   "id": "11fcf617",
   "metadata": {},
   "source": [
    "Всем привет! \n",
    "\n",
    "Это ваше первое домашнее задание))\n",
    "\n",
    "Списывать нельзя, гуглить можно) \n",
    "\n",
    "Что надо помнить: пишите код красиво, контролируйте код-стайл, нормальную структуру, импорты и т. д.\n",
    "\n",
    "Дедлайн: четверг 5 декабря в 23:59\n",
    "\n",
    "Решения на почту - skvortsovg@yandex.ru\n",
    "\n",
    "Пожалуйста, напишите в теме письма так: **ФТиАД24: python_дз1 Фамилия Имя**"
   ]
  },
  {
   "cell_type": "code",
   "execution_count": 1,
   "id": "1a3b6e36",
   "metadata": {},
   "outputs": [],
   "source": [
    "import numpy as np"
   ]
  },
  {
   "cell_type": "markdown",
   "id": "78d6b9ea",
   "metadata": {},
   "source": [
    "### Задача 1 (расстояние между точками на земле)\n",
    "\n",
    "Напишите программу, в которой пользователь будет вводить координаты двух точек на Земле (широту и долготу) в градусах. На выходе должно получиться расстояние между этими точками при следовании по кратчайшему пути по поверхности планеты.\n",
    "\n"
   ]
  },
  {
   "cell_type": "code",
   "execution_count": 2,
   "id": "06eef44a",
   "metadata": {},
   "outputs": [],
   "source": [
    "def haversine_array(lat1, lng1, lat2, lng2):\n",
    "    lat1, lng1, lat2, lng2 = map(np.radians, (lat1, lng1, lat2, lng2))\n",
    "    AVG_EARTH_RADIUS = 6371  # in km\n",
    "    lat = lat2 - lat1\n",
    "    lng = lng2 - lng1\n",
    "    d = np.sin(lat * 0.5) ** 2 + np.cos(lat1) * np.cos(lat2) * np.sin(lng * 0.5) ** 2\n",
    "    h = 2 * AVG_EARTH_RADIUS * np.arcsin(np.sqrt(d))\n",
    "    return h"
   ]
  },
  {
   "cell_type": "code",
   "execution_count": 3,
   "id": "6e05b945",
   "metadata": {},
   "outputs": [
    {
     "name": "stdout",
     "output_type": "stream",
     "text": [
      "Distance: 1580.5381\n"
     ]
    }
   ],
   "source": [
    "print(f'Distance: {haversine_array(48.572549, 45.761142, 49.840147, 24.014199):.4f}')"
   ]
  },
  {
   "cell_type": "markdown",
   "id": "f082ea61",
   "metadata": {},
   "source": [
    "### Задача 2 (максимальная сумма)\n",
    "\n",
    "Ввести в столбик последовательность целых (положительных и отрицательных) чисел, не равных нулю; в конце этой последовательности стоит 0. Вывести наибольшую сумму последовательно идущих элементов этой последовательности (не менее одного).\n",
    "\n"
   ]
  },
  {
   "cell_type": "code",
   "execution_count": 4,
   "id": "33cdb916",
   "metadata": {},
   "outputs": [
    {
     "name": "stdout",
     "output_type": "stream",
     "text": [
      "[1, 1, 1, 2, 3, 4, 6, -1, 10, 0] 27\n"
     ]
    }
   ],
   "source": [
    "input_history = []\n",
    "\n",
    "cur_input = int(input('Input a number: '))\n",
    "input_history.append(cur_input)\n",
    "\n",
    "cur_sum = cur_input\n",
    "max_sum = cur_input\n",
    "\n",
    "while True and cur_input != 0:\n",
    "    cur_input = int(input('Input a number: '))\n",
    "    input_history.append(cur_input)\n",
    "\n",
    "    if cur_input == 0:\n",
    "        break\n",
    "\n",
    "    if cur_sum < 0:\n",
    "        cur_sum = max(0, cur_input)\n",
    "    else:\n",
    "        cur_sum = max(0, cur_sum + cur_input)\n",
    "\n",
    "    if cur_sum > 0:\n",
    "        max_sum = max(max_sum, cur_sum)\n",
    "    else:\n",
    "        max_sum = max(max_sum, cur_input)\n",
    "\n",
    "\n",
    "print(input_history, max_sum)"
   ]
  },
  {
   "cell_type": "markdown",
   "id": "1744bcff",
   "metadata": {},
   "source": [
    "### Задача 3 (сумма кубов)\n",
    "\n",
    "Ввести натуральное число N и вывести, сколько существует различных пар натуральных чисел A и B: A³+B³=N (с точностью до перестановки).  Вещественные операции (например, кубический корень) рекомендуется использовать как можно реже."
   ]
  },
  {
   "cell_type": "code",
   "execution_count": 5,
   "id": "d82d1205",
   "metadata": {},
   "outputs": [],
   "source": [
    "N = 54\n",
    "max_root = int(N ** (1/3))"
   ]
  },
  {
   "cell_type": "code",
   "execution_count": 6,
   "id": "25fa53ec",
   "metadata": {},
   "outputs": [
    {
     "name": "stdout",
     "output_type": "stream",
     "text": [
      "MEOW\n",
      "Here are 1 n of root pairs: [(3, 3)]\n"
     ]
    }
   ],
   "source": [
    "roots = []\n",
    "for i in range(max_root, 0, -1):\n",
    "    for j in range(i + 1):\n",
    "        if i ** 3 + j ** 3 == N:\n",
    "            roots.append((i, j))\n",
    "            print('MEOW')\n",
    "            break\n",
    "\n",
    "print(f'Here are {len(roots)} n of root pairs: {roots}')"
   ]
  },
  {
   "cell_type": "markdown",
   "id": "babe76f4",
   "metadata": {},
   "source": [
    "### Задача 4 (Разложение на множители)\n",
    "Ввести произвольное натуральное число, не превосходящее 1000000000 \n",
    "\n",
    "Вывести (через «*») все его разложения на натуральные сомножители, превосходящие 1, без учёта перестановок. Сомножители в каждом разложении и сами разложения (как последовательности) при выводе должны быть упорядочены по возрастанию. Само число также считается разложением."
   ]
  },
  {
   "cell_type": "code",
   "execution_count": 7,
   "id": "15f756ce",
   "metadata": {},
   "outputs": [
    {
     "name": "stdout",
     "output_type": "stream",
     "text": [
      "[1, 2, 3, 3]\n"
     ]
    }
   ],
   "source": [
    "number = 2*9\n",
    "prime_dividers = [1]\n",
    "\n",
    "break_while = True\n",
    "\n",
    "while break_while:\n",
    "    for i in range(prime_dividers[-1], number + 1):\n",
    "\n",
    "        if i == number:\n",
    "            break_while = False\n",
    "\n",
    "        if (number % i == 0) & (i != 1):\n",
    "            prime_dividers.append(i)\n",
    "            number = number // i\n",
    "            break\n",
    "\n",
    "print(prime_dividers)"
   ]
  },
  {
   "cell_type": "code",
   "execution_count": 8,
   "id": "f681da96",
   "metadata": {},
   "outputs": [],
   "source": [
    "def generate_combinations(dividers, index=0, current_combination=[], results=[]):\n",
    "    if index == len(dividers):\n",
    "        if current_combination:\n",
    "            results.append(current_combination[:])\n",
    "        return\n",
    "\n",
    "    current_combination.append(dividers[index])\n",
    "    generate_combinations(dividers, index + 1, current_combination, results)\n",
    "    current_combination.pop()\n",
    "\n",
    "    if current_combination:\n",
    "        current_combination[-1] *= dividers[index]\n",
    "        generate_combinations(dividers, index + 1, current_combination, results)\n",
    "        current_combination[-1] //= dividers[index]\n"
   ]
  },
  {
   "cell_type": "code",
   "execution_count": 9,
   "id": "bd8a32cc",
   "metadata": {},
   "outputs": [
    {
     "name": "stdout",
     "output_type": "stream",
     "text": [
      "1*2*3*3\n",
      "1*2*9\n",
      "1*3*6\n",
      "1*18\n",
      "2*3*3\n",
      "2*9\n",
      "3*6\n",
      "18\n"
     ]
    }
   ],
   "source": [
    "def print_combinations(dividers):\n",
    "    results = []\n",
    "    generate_combinations(dividers, 0, [], results)\n",
    "    \n",
    "    for combination in results:\n",
    "        print(\"*\".join(map(str, sorted(combination))))\n",
    "\n",
    "print_combinations(prime_dividers)"
   ]
  },
  {
   "cell_type": "markdown",
   "id": "f5a61434",
   "metadata": {},
   "source": [
    "### Задача 5 (Переворот числа)\n",
    "Пусть на вход дается челое 32-х битное число (может быть и отрицательное)\n",
    "\n",
    "Необходимо вернуть его перевернутую версию, например, для числа -123 ответом будет -321, а для числа -1 будет -1, а для 10101010 - 1010101\n",
    "\n",
    "Пользоваться строковыми методами *нельзя*"
   ]
  },
  {
   "cell_type": "code",
   "execution_count": 12,
   "id": "6657b0f2",
   "metadata": {},
   "outputs": [
    {
     "name": "stdout",
     "output_type": "stream",
     "text": [
      "10101\n"
     ]
    }
   ],
   "source": [
    "n = 101010\n",
    "arr = []\n",
    "\n",
    "neg = False\n",
    "if n < 0:\n",
    "    n *= (-1)\n",
    "    neg = True\n",
    "\n",
    "while n // 10 > 0:\n",
    "    arr.append(n % 10)\n",
    "    n = n // 10\n",
    "\n",
    "arr.append(n)\n",
    "\n",
    "new_num = 0\n",
    "for i, power in enumerate(range(len(arr) - 1, -1, -1)):\n",
    "    new_num += arr[i] * 10 ** power\n",
    "\n",
    "if neg:\n",
    "    new_num *= (-1)\n",
    "\n",
    "\n",
    "print(new_num)"
   ]
  },
  {
   "cell_type": "markdown",
   "id": "2d504bd6",
   "metadata": {},
   "source": [
    "### Задача 6 (Перевод числа в римской записи а арабскую):\n",
    "\n",
    "На вход подается строка, представляющая натуральное число в римской записи (из символов I, V, X, C, L, M). Требуется представить его в арабской записи. Подробнее про арабские числа можно почитать на [википедии](https://ru.wikipedia.org/wiki/%D0%A0%D0%B8%D0%BC%D1%81%D0%BA%D0%B8%D0%B5_%D1%86%D0%B8%D1%84%D1%80%D1%8B)"
   ]
  },
  {
   "cell_type": "code",
   "execution_count": null,
   "id": "53a94356",
   "metadata": {},
   "outputs": [
    {
     "name": "stdout",
     "output_type": "stream",
     "text": [
      "843\n"
     ]
    }
   ],
   "source": [
    "roman = {\n",
    "    'I': 1,\n",
    "    'V': 5,\n",
    "    'X': 10,\n",
    "    'L': 50,\n",
    "    'C': 100,\n",
    "    'D': 500,\n",
    "    'M': 1000\n",
    "    }\n",
    "\n",
    "roman_line = 'XVIII'\n",
    "roman_line = 'CMXLIII'\n",
    "roman_line = 'DCCCXLIII'\n",
    "\n",
    "cur_val = 0\n",
    "\n",
    "for i in range(len(roman_line)):\n",
    "    if i == len(roman_line) - 1:\n",
    "        cur_val += roman[roman_line[i]]\n",
    "    else:\n",
    "        if roman[roman_line[i]] < roman[roman_line[i + 1]]:\n",
    "            cur_val -= roman[roman_line[i]]\n",
    "        else:\n",
    "            cur_val += roman[roman_line[i]]\n",
    "\n",
    "print(cur_val)\n"
   ]
  },
  {
   "cell_type": "markdown",
   "id": "9a5394dc",
   "metadata": {},
   "source": [
    "### Задача 7 (Группировка итератора)\n",
    "\n",
    "Напишите итератор (вспомните про **yield**), которая возвращает строку длины N\n",
    "\n",
    "Напишите вспомогательную функцию, которая будет принимать результат итератора и комбинировать его в чанки заданной длины\n"
   ]
  },
  {
   "cell_type": "code",
   "execution_count": 10,
   "id": "51e53410",
   "metadata": {},
   "outputs": [
    {
     "name": "stdout",
     "output_type": "stream",
     "text": [
      "('a', 'a', 'a')\n",
      "('a', 'a', 'a')\n",
      "('a', 'a', 'a')\n",
      "('a',)\n"
     ]
    }
   ],
   "source": [
    "def my_string_generator(N):\n",
    "    stroke = 'a' * N\n",
    "    for char in stroke:\n",
    "        yield char\n",
    "\n",
    "\n",
    "\n",
    "def chunker(iterable, chunk_size=2) -> tuple:\n",
    "    while True:\n",
    "        chunk = []\n",
    "\n",
    "        for _ in range(chunk_size):\n",
    "            try:\n",
    "                chunk.append(next(iterable))\n",
    "            except:\n",
    "                yield tuple(chunk)\n",
    "                return None\n",
    "\n",
    "        yield tuple(chunk)\n",
    "\n",
    "\n",
    "N = 10\n",
    "chunk_size = 3\n",
    "\n",
    "for chunk in chunker(my_string_generator(N), chunk_size):\n",
    "    print(chunk)\n"
   ]
  },
  {
   "cell_type": "markdown",
   "id": "c38998a1",
   "metadata": {},
   "source": [
    "### Задача 8 (Декоратор-ретрай)\n",
    "\n",
    "Напишите функцию, которая принимает число N и с вероятностью 1/N возвращает строку, а в остальных случаях порождает исключение.\n",
    "\n",
    "Напишите декоратор, который пытается выполнить функцию заданное кол-во раз и задекорируйте ее.\n"
   ]
  },
  {
   "cell_type": "code",
   "execution_count": 4,
   "id": "62728fe2",
   "metadata": {},
   "outputs": [],
   "source": [
    "import random as rnd"
   ]
  },
  {
   "cell_type": "code",
   "execution_count": 39,
   "id": "7ef65912",
   "metadata": {},
   "outputs": [],
   "source": [
    "def try_execute(n_tries=10):\n",
    "    def decorator(func):\n",
    "        def wrapper(*args, **kwargs):\n",
    "            tries = 0\n",
    "            while tries < n_tries:\n",
    "                try:\n",
    "                    return func(*args, **kwargs)\n",
    "                except Exception as e:\n",
    "                    tries += 1\n",
    "                    print(f'attempt no {tries}. a great time to give up.')\n",
    "\n",
    "                    if tries == n_tries:\n",
    "                        print('you failed. no meow allowed.')\n",
    "                        raise e\n",
    "\n",
    "        return wrapper\n",
    "    return decorator"
   ]
  },
  {
   "cell_type": "code",
   "execution_count": 40,
   "id": "fa80bb16",
   "metadata": {},
   "outputs": [],
   "source": [
    "@try_execute(n_tries=10)\n",
    "def probabilistic_meow(N):\n",
    "    number = rnd.randint(0, N)\n",
    "    if number == N // 2:\n",
    "        return 'MEOW MEOW MEOW'\n",
    "    else:\n",
    "        raise"
   ]
  },
  {
   "cell_type": "code",
   "execution_count": 41,
   "id": "7d564550",
   "metadata": {},
   "outputs": [
    {
     "name": "stdout",
     "output_type": "stream",
     "text": [
      "attempt no 1. a great time to give up.\n",
      "attempt no 2. a great time to give up.\n",
      "attempt no 3. a great time to give up.\n",
      "attempt no 4. a great time to give up.\n",
      "attempt no 5. a great time to give up.\n",
      "attempt no 6. a great time to give up.\n",
      "attempt no 7. a great time to give up.\n",
      "attempt no 8. a great time to give up.\n"
     ]
    },
    {
     "data": {
      "text/plain": [
       "'MEOW MEOW MEOW'"
      ]
     },
     "execution_count": 41,
     "metadata": {},
     "output_type": "execute_result"
    }
   ],
   "source": [
    "probabilistic_meow(10)"
   ]
  },
  {
   "cell_type": "markdown",
   "id": "85cb492e",
   "metadata": {},
   "source": [
    "### Задание 9 (Использование паттера Singleton)\n",
    "\n",
    "Найдите на github примеры кода (5 штук), где применяется паттерн singleton. У репозитория, в которым вы ищите, должно быть более 10 звездочек.\n",
    "\n",
    "Ниже вставьте примеры такого кода (5 штук) и напишите где именно используется паттерн и зачем"
   ]
  },
  {
   "cell_type": "markdown",
   "id": "f06ecc79",
   "metadata": {},
   "source": [
    "singleton pattern is used to ensure that there is only one instance of class running during app uptime\n",
    "\n",
    "\n",
    "https://github.com/ets-labs/python-dependency-injector \n",
    "\n",
    "singleton here ensures there is only one api client for a session; so that all components that require api client get the same instance of it, which helps in maintaining consistency\n",
    "\n",
    "\n",
    "https://github.com/lazybird/django-solo\n",
    "\n",
    "database that holds global settings for siteconfiguration has only one row, which is singleton instanse. it provides easier sharing options of configuration through the application and makes maintainance for admin easier\n",
    "\n",
    "\n",
    "https://github.com/steinitzu/celery-singleton\n",
    "\n",
    "it ensures there is only one instance of task that have the same name and arguments running in a system at a time, preventing duplicate tasks executions etc so that keeps resourses\n",
    "\n",
    "https://github.com/DongjunLee/hb-config\n",
    "\n",
    "quote: feat(hbconfig-meta): implemets HBConfigMeta (singleton, access all attribute using __getattr__), and SubConfig, add examples in README\n",
    "\n",
    "basically, no matter how many times Config class is assessed, there is only one instance of HBConfigMeta metaclass (they just check whether the instance already exists)\n",
    "\n",
    "https://github.com/twtrubiks/line-bot-oop\n",
    "\n",
    "here, only one instance of Config class is initialized, so there is one configuration for application\n"
   ]
  },
  {
   "cell_type": "markdown",
   "id": "9426bdf7",
   "metadata": {},
   "source": [
    "### Задача 10 (Решатель судоку)\n",
    "\n",
    "Напишите программу, которая принимает матричку 9*9 (список списков), которая представляет собой кроссворд-судоку.\n",
    "В местах, куда надо вставить значения - -**1**\n",
    "\n",
    "И напишите функцию (функции), которые решают судоку и выводят результат"
   ]
  },
  {
   "attachments": {
    "image.png": {
     "image/png": "[encoded data removed]"
    }
   },
   "cell_type": "markdown",
   "id": "fcbddccb",
   "metadata": {},
   "source": [
    "![image.png](attachment:image.png)"
   ]
  },
  {
   "cell_type": "code",
   "execution_count": 20,
   "id": "27be5f91",
   "metadata": {},
   "outputs": [],
   "source": [
    "from pprint import pprint\n",
    "import numpy as np"
   ]
  },
  {
   "cell_type": "code",
   "execution_count": 187,
   "id": "c497f297",
   "metadata": {},
   "outputs": [],
   "source": [
    "def is_possible(y, x, n, grid): \n",
    "\n",
    "    '''\n",
    "    Function that checks whether the number (n) can be inserted into row (y), column (x).\n",
    "    ----------------->   x\n",
    "    |\n",
    "    |\n",
    "    |\n",
    "    |\n",
    "    |\n",
    "    v \n",
    "     \n",
    "    Y\n",
    "    '''\n",
    "\n",
    "    # check if n can be inserted into y-th row \n",
    "    for i in range(0, 9):\n",
    "        if grid[y][i] == n: \n",
    "            # print(f'{y} row check failed')\n",
    "            return False\n",
    "\n",
    "    # check if n can be inserted into x-th column \n",
    "    for i in range(0, 9):\n",
    "        if grid[i][x] == n: \n",
    "            # print(f'{x} column check failed')\n",
    "            return False\n",
    "\n",
    "    # check if n can be inserted into corresponding square\n",
    "    x0 = (x // 3) * 3 # start column of square\n",
    "    y0 = (y // 3) * 3 # start row of square\n",
    "    for i in range(0, 3):\n",
    "        for j in range(0, 3):\n",
    "            if grid[y0 + i][x0 + j] == n:\n",
    "                # print(f'{y0}, {x0} square check failed')\n",
    "                return False \n",
    "\n",
    "    # print('No checks failed, possible insert!')        \n",
    "    return True\n"
   ]
  },
  {
   "cell_type": "code",
   "execution_count": 188,
   "id": "88475284",
   "metadata": {},
   "outputs": [],
   "source": [
    "def solve(grid):\n",
    "    \n",
    "    for j in range(9):\n",
    "        for i in range(9):\n",
    "            if grid[j][i] == -1:\n",
    "                for n in range(1,10):\n",
    "                    if is_possible(j, i, n, grid):\n",
    "                        grid[j][i] = n\n",
    "                        solve(grid) \n",
    "                        grid[j][i] = -1\n",
    "                return\n",
    "    # сюда можно попасть только когда пустых ячеек не осталось, т.е. печатаем решение\n",
    "    print(np.matrix(grid))\n",
    "    return\n",
    "    "
   ]
  },
  {
   "cell_type": "code",
   "execution_count": 189,
   "id": "ea6a8f96",
   "metadata": {},
   "outputs": [
    {
     "name": "stdout",
     "output_type": "stream",
     "text": [
      "[[ 7  3 -1  8 -1  5  1  6 -1]\n",
      " [-1 -1  5  2 -1 -1 -1 -1 -1]\n",
      " [-1  1  9 -1  6 -1 -1  3 -1]\n",
      " [ 1 -1  7  3 -1 -1  2 -1  4]\n",
      " [ 3 -1  2  5  1  9 -1 -1  7]\n",
      " [-1  6  8 -1 -1  4  9 -1 -1]\n",
      " [-1  2  6  1 -1 -1  3  4  5]\n",
      " [-1 -1 -1 -1 -1  3 -1 -1 -1]\n",
      " [-1 -1  3  6  5 -1  8 -1 -1]]\n",
      "[[7 3 4 8 9 5 1 6 2]\n",
      " [6 8 5 2 3 1 4 7 9]\n",
      " [2 1 9 4 6 7 5 3 8]\n",
      " [1 9 7 3 8 6 2 5 4]\n",
      " [3 4 2 5 1 9 6 8 7]\n",
      " [5 6 8 7 2 4 9 1 3]\n",
      " [9 2 6 1 7 8 3 4 5]\n",
      " [8 5 1 9 4 3 7 2 6]\n",
      " [4 7 3 6 5 2 8 9 1]]\n"
     ]
    }
   ],
   "source": [
    "grid = [\n",
    "    [7, 3, -1, 8, -1, 5, 1, 6, -1], \n",
    "    [-1, -1, 5, 2, -1, -1, -1, -1, -1], \n",
    "    [-1, 1, 9, -1, 6, -1, -1, 3, -1], \n",
    "    [1, -1, 7, 3, -1, -1, 2, -1, 4], \n",
    "    [3, -1, 2, 5, 1, 9, -1, -1, 7], \n",
    "    [-1, 6, 8, -1, -1, 4, 9, -1, -1], \n",
    "    [-1, 2, 6, 1, -1, -1, 3, 4, 5], \n",
    "    [-1, -1, -1, -1, -1, 3, -1, -1, -1], \n",
    "    [-1, -1, 3, 6, 5, -1, 8, -1, -1]\n",
    "    ]\n",
    "\n",
    "print(np.matrix(grid))\n",
    "\n",
    "solve(grid)\n"
   ]
  },
  {
   "cell_type": "markdown",
   "id": "248cd2e9",
   "metadata": {},
   "source": [
    "### Задача 11 (сколько гостей было в отеле одномоментно)\n",
    "Представьте, что вы - менеджер отеля и хотите знать, сколько гостей было в отеле максимально за весь период.\n",
    "\n",
    "Каждый гость характеризуется тюплом (day_start, day_end), который показывает, когда гость заселился и выселился из отеля. Имейте в виду, что время заселения всегда больше, чем время выселения, то есть гости (1, 6) и (6, 8) не пересекались друг с другом.\n",
    "\n",
    "Напишите функцию, которая позволяет определить, сколько гостей в отеле было максимально. Входные данные вышей функции - список из тюплов.\n",
    "\n",
    "Примеры: \n",
    "\n",
    "    1. [(0, 1), (1, 2), (0, 3)] -> 2\n",
    "    2. [(10, 20), (5, 7), (5, 20), (20, 21)] -> 2\n",
    "    3. [(10, 20), (5, 7), (5, 20), (20, 21), (3, 7)] -> 3"
   ]
  },
  {
   "cell_type": "code",
   "execution_count": 48,
   "id": "4498c2b7",
   "metadata": {},
   "outputs": [
    {
     "name": "stdout",
     "output_type": "stream",
     "text": [
      "3\n"
     ]
    }
   ],
   "source": [
    "base = [(0, 1), (1, 2), (0, 3)]\n",
    "base = [(10, 20), (5, 7), (5, 20), (20, 21)]\n",
    "base = [(10, 20), (5, 7), (5, 20), (20, 21), (3, 7)]\n",
    "\n",
    "events = []\n",
    "\n",
    "for event in base:\n",
    "    events.append((event[0], 1))\n",
    "    events.append((event[1], -1))\n",
    "\n",
    "events = sorted(events)\n",
    "\n",
    "max_count = 0\n",
    "count = 0\n",
    "for event in events:\n",
    "    count += event[1]\n",
    "    if count > max_count:\n",
    "        max_count = count\n",
    "\n",
    "print(max_count)\n"
   ]
  },
  {
   "cell_type": "markdown",
   "id": "137f0bc6",
   "metadata": {},
   "source": [
    "### Задача 12 (проверка на центр отрезка)\n",
    "\n",
    "Пусть у вас есть 3 числа - первые два задают начало и конец отрезка, а третье - предполагаемую середину. Все вводные значения - float\n",
    "\n",
    "Необходимо написать функцию, которая проверяет, является ли третье число серединой отрезка.\n"
   ]
  },
  {
   "cell_type": "code",
   "execution_count": 33,
   "id": "79624f09",
   "metadata": {},
   "outputs": [],
   "source": [
    "def get_n_digits(number):\n",
    "    digits = str(number).split('.')[1]\n",
    "    if digits == '0':\n",
    "        return 0\n",
    "    else:\n",
    "        return len(digits)"
   ]
  },
  {
   "cell_type": "code",
   "execution_count": null,
   "id": "f62dd431",
   "metadata": {},
   "outputs": [],
   "source": [
    "def get_mid(a: float, b: float, mid: float):\n",
    "    a_power, b_power, mid_power = get_n_digits(a), get_n_digits(b), get_n_digits(mid)\n",
    "    power = max(a_power, b_power, mid_power)\n",
    "    a, b, mid = int(a * 10 ** power), int(b * 10 ** power), int(mid * 10 ** power)\n",
    "    \n",
    "    if (a + b) / 2 == mid:\n",
    "        print('MEOW')\n",
    "    else:\n",
    "        print('now meow =(')"
   ]
  },
  {
   "cell_type": "code",
   "execution_count": 37,
   "id": "dc552789",
   "metadata": {},
   "outputs": [
    {
     "name": "stdout",
     "output_type": "stream",
     "text": [
      "MEOW\n"
     ]
    }
   ],
   "source": [
    "get_mid(0.1, 0.2, 0.15)"
   ]
  },
  {
   "cell_type": "markdown",
   "id": "f4d56a8b",
   "metadata": {},
   "source": [
    "### Задача 13 (классы)\n",
    "\n",
    "Это задача дает большой простор для креатива. Вам надо написать класс (или классы), где вы продемонстрируйте владение такими штуками, как проперти, классметод, статикметод, магические методы (достаточно показать владение несколькими из них)."
   ]
  },
  {
   "cell_type": "code",
   "execution_count": 192,
   "id": "f29be048",
   "metadata": {},
   "outputs": [],
   "source": [
    "import random as rnd"
   ]
  },
  {
   "cell_type": "code",
   "execution_count": 193,
   "id": "7886610e",
   "metadata": {},
   "outputs": [],
   "source": [
    "class NyanCat():\n",
    "\n",
    "    def __init__(self, breed, colour, n_tails, language='catinese'):\n",
    "        self.breed = breed\n",
    "        self._colour = colour\n",
    "        self.n_tails = n_tails\n",
    "        self.language = language\n",
    "\n",
    "    @property\n",
    "    def is_colour_possible(self):\n",
    "        return self._colour\n",
    "    \n",
    "    @is_colour_possible.setter\n",
    "    def is_colour_possible(self, colour):\n",
    "        if colour not in ['grey', 'orange', 'white', 'black', 'brown', 'silver', 'golden']:\n",
    "            raise ValueError(f'a cat cant be {colour}.')\n",
    "        self._colour = colour\n",
    "\n",
    "    @staticmethod\n",
    "    def get_meow(number: int):\n",
    "        if number == rnd.randint(number // 10, number):\n",
    "            print('you are blessed with meow today!🐱✨')\n",
    "        else:\n",
    "            print('unluck! try getting meow later.😿')\n",
    "\n",
    "    @classmethod\n",
    "    def lucky_cat(cls):\n",
    "        lucky_breeds = ['scotch', 'birman', 'russian blue']\n",
    "        lucky_colours = ['white', 'silver', 'golden']\n",
    "        lucky_tails = [7, 9, 19]\n",
    "        return cls(\n",
    "            breed=rnd.choice(lucky_breeds),\n",
    "            colour=rnd.choice(lucky_colours),\n",
    "            n_tails=rnd.choice(lucky_tails),\n",
    "            language='facts'\n",
    "        )\n",
    "    \n",
    "    def __eq__(self, other):\n",
    "        return (self.breed == other.breed) & (self._colour == other._colour) & (self.n_tails == other.n_tails)\n",
    "    \n",
    "    def __str__(self):\n",
    "        luckiness = 'extremely lucky!' if self.n_tails in([7, 9, 19]) \\\n",
    "            else 'DIVINE' if self.n_tails in([3, 42]) \\\n",
    "            else 'a bit lucky' if self.n_tails in([8, 12]) \\\n",
    "            else 'chaotic evil' if self.n_tails in([4, 13]) \\\n",
    "            else 'a neutral cat'\n",
    "        return f'this NyanCat is {self.breed} of {self._colour} colour with {self.n_tails} tails. it is {luckiness}'\n",
    "    \n",
    "    def translate_to_meownese(self, text: str):\n",
    "        words = text.split()\n",
    "\n",
    "        if self.language == 'elven':\n",
    "            meows = ['meowdy', 'mewl', 'mewow', 'miaouw', 'myae', 'smyuen', 'myaa', 'aiya']\n",
    "        elif self.language == 'fact':\n",
    "            meows = ['MEOWGGR', 'MIGGER', 'MIGGA', 'miyagi', 'meowck', 'there are only two genders.']\n",
    "        else:\n",
    "            meows = ['meow', 'mew', 'nyan', 'purr', 'miau']\n",
    "        \n",
    "        return ' '.join([rnd.choice(meows) for _ in words])\n"
   ]
  },
  {
   "cell_type": "code",
   "execution_count": 194,
   "id": "b62d02bf",
   "metadata": {},
   "outputs": [
    {
     "name": "stdout",
     "output_type": "stream",
     "text": [
      "silver\n",
      "brown\n"
     ]
    },
    {
     "ename": "ValueError",
     "evalue": "a cat cant be green.",
     "output_type": "error",
     "traceback": [
      "\u001b[1;31m---------------------------------------------------------------------------\u001b[0m",
      "\u001b[1;31mValueError\u001b[0m                                Traceback (most recent call last)",
      "Cell \u001b[1;32mIn[194], line 7\u001b[0m\n\u001b[0;32m      5\u001b[0m nyan\u001b[38;5;241m.\u001b[39mis_colour_possible \u001b[38;5;241m=\u001b[39m \u001b[38;5;124m'\u001b[39m\u001b[38;5;124mbrown\u001b[39m\u001b[38;5;124m'\u001b[39m\n\u001b[0;32m      6\u001b[0m \u001b[38;5;28mprint\u001b[39m(nyan\u001b[38;5;241m.\u001b[39m_colour)\n\u001b[1;32m----> 7\u001b[0m \u001b[43mnyan\u001b[49m\u001b[38;5;241;43m.\u001b[39;49m\u001b[43mis_colour_possible\u001b[49m \u001b[38;5;241m=\u001b[39m \u001b[38;5;124m'\u001b[39m\u001b[38;5;124mgreen\u001b[39m\u001b[38;5;124m'\u001b[39m\n",
      "Cell \u001b[1;32mIn[193], line 16\u001b[0m, in \u001b[0;36mNyanCat.is_colour_possible\u001b[1;34m(self, colour)\u001b[0m\n\u001b[0;32m     13\u001b[0m \u001b[38;5;129m@is_colour_possible\u001b[39m\u001b[38;5;241m.\u001b[39msetter\n\u001b[0;32m     14\u001b[0m \u001b[38;5;28;01mdef\u001b[39;00m \u001b[38;5;21mis_colour_possible\u001b[39m(\u001b[38;5;28mself\u001b[39m, colour):\n\u001b[0;32m     15\u001b[0m     \u001b[38;5;28;01mif\u001b[39;00m colour \u001b[38;5;129;01mnot\u001b[39;00m \u001b[38;5;129;01min\u001b[39;00m [\u001b[38;5;124m'\u001b[39m\u001b[38;5;124mgrey\u001b[39m\u001b[38;5;124m'\u001b[39m, \u001b[38;5;124m'\u001b[39m\u001b[38;5;124morange\u001b[39m\u001b[38;5;124m'\u001b[39m, \u001b[38;5;124m'\u001b[39m\u001b[38;5;124mwhite\u001b[39m\u001b[38;5;124m'\u001b[39m, \u001b[38;5;124m'\u001b[39m\u001b[38;5;124mblack\u001b[39m\u001b[38;5;124m'\u001b[39m, \u001b[38;5;124m'\u001b[39m\u001b[38;5;124mbrown\u001b[39m\u001b[38;5;124m'\u001b[39m, \u001b[38;5;124m'\u001b[39m\u001b[38;5;124msilver\u001b[39m\u001b[38;5;124m'\u001b[39m, \u001b[38;5;124m'\u001b[39m\u001b[38;5;124mgolden\u001b[39m\u001b[38;5;124m'\u001b[39m]:\n\u001b[1;32m---> 16\u001b[0m         \u001b[38;5;28;01mraise\u001b[39;00m \u001b[38;5;167;01mValueError\u001b[39;00m(\u001b[38;5;124mf\u001b[39m\u001b[38;5;124m'\u001b[39m\u001b[38;5;124ma cat cant be \u001b[39m\u001b[38;5;132;01m{\u001b[39;00mcolour\u001b[38;5;132;01m}\u001b[39;00m\u001b[38;5;124m.\u001b[39m\u001b[38;5;124m'\u001b[39m)\n\u001b[0;32m     17\u001b[0m     \u001b[38;5;28mself\u001b[39m\u001b[38;5;241m.\u001b[39m_colour \u001b[38;5;241m=\u001b[39m colour\n",
      "\u001b[1;31mValueError\u001b[0m: a cat cant be green."
     ]
    }
   ],
   "source": [
    "nyan = NyanCat('russian blue', 'silver', 9, 'fact')\n",
    "lucky_nyan = NyanCat.lucky_cat()\n",
    "\n",
    "print(nyan._colour)\n",
    "nyan.is_colour_possible = 'brown'\n",
    "print(nyan._colour)\n",
    "nyan.is_colour_possible = 'green'"
   ]
  },
  {
   "cell_type": "code",
   "execution_count": 195,
   "id": "f246c33b",
   "metadata": {},
   "outputs": [],
   "source": [
    "text = 'hello my little nyancat! how are you today! have you slept well?'"
   ]
  },
  {
   "cell_type": "code",
   "execution_count": 196,
   "id": "916689a8",
   "metadata": {},
   "outputs": [
    {
     "name": "stdout",
     "output_type": "stream",
     "text": [
      "meowck MEOWGGR MIGGA miyagi MIGGER miyagi MIGGER MIGGA MIGGA MEOWGGR there are only two genders. there are only two genders.\n",
      "this NyanCat is russian blue of brown colour with 9 tails. it is extremely lucky!\n",
      "this NyanCat is scotch of white colour with 19 tails. it is extremely lucky!\n",
      "False\n"
     ]
    }
   ],
   "source": [
    "print(nyan.translate_to_meownese(text))\n",
    "\n",
    "print(nyan)\n",
    "print(lucky_nyan)\n",
    "\n",
    "print(nyan == lucky_nyan)"
   ]
  },
  {
   "cell_type": "code",
   "execution_count": 197,
   "id": "737ca0ce",
   "metadata": {},
   "outputs": [
    {
     "name": "stdout",
     "output_type": "stream",
     "text": [
      "unluck! try getting meow later.😿\n"
     ]
    }
   ],
   "source": [
    "nyan.get_meow(10)"
   ]
  },
  {
   "cell_type": "code",
   "execution_count": null,
   "id": "75b78714",
   "metadata": {},
   "outputs": [],
   "source": []
  }
 ],
 "metadata": {
  "kernelspec": {
   "display_name": "Python 3",
   "language": "python",
   "name": "python3"
  },
  "language_info": {
   "codemirror_mode": {
    "name": "ipython",
    "version": 3
   },
   "file_extension": ".py",
   "mimetype": "text/x-python",
   "name": "python",
   "nbconvert_exporter": "python",
   "pygments_lexer": "ipython3",
   "version": "3.12.2"
  }
 },
 "nbformat": 4,
 "nbformat_minor": 5
}
